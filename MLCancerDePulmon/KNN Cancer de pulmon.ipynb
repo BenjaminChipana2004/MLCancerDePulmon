{
 "cells": [
  {
   "cell_type": "code",
   "execution_count": 2,
   "id": "b17cdccf-6905-4fd7-95f7-3af8d6d5fab2",
   "metadata": {},
   "outputs": [],
   "source": [
    "#Importar librerías\n",
    "import pandas as pd\n",
    "import numpy as np\n",
    "import matplotlib.pyplot as plt"
   ]
  },
  {
   "cell_type": "code",
   "execution_count": 4,
   "id": "1f11821c-bbf7-4fc3-a3a4-cf2222dfdc95",
   "metadata": {},
   "outputs": [],
   "source": [
    "#Acceder al archivo CSV\n",
    "dataframe = pd.read_csv('CANCERLUNG.csv', sep = ';')"
   ]
  },
  {
   "cell_type": "code",
   "execution_count": 6,
   "id": "95e749b9-b3a9-4f89-bfdb-6da838596041",
   "metadata": {},
   "outputs": [],
   "source": [
    "#Definimos los valores para entrenar al algoritmo\n",
    "y=dataframe['LUNG_CANCER']\n",
    "x=dataframe.drop('LUNG_CANCER',axis=1)"
   ]
  },
  {
   "cell_type": "code",
   "execution_count": 8,
   "id": "f1f8f0f6-60cd-4b5f-ae7e-c927255f2d9f",
   "metadata": {},
   "outputs": [],
   "source": [
    "#Entrenar el modelo con los valores óptimos hallados anteriormente\n",
    "from sklearn.model_selection import train_test_split\n",
    "x_train,x_test,y_train,y_test = train_test_split(x,y,test_size=0.3,random_state=30)\n",
    "\n",
    "from sklearn.neighbors import KNeighborsClassifier\n",
    "knn_mm = KNeighborsClassifier(n_neighbors=2)\n",
    "\n",
    "knn_mm.fit(x_train,y_train)\n",
    "\n",
    "predicciones=knn_mm.predict(x_test)"
   ]
  },
  {
   "cell_type": "code",
   "execution_count": 10,
   "id": "9169cc7d-03b9-4b50-b33f-67af231393c1",
   "metadata": {},
   "outputs": [],
   "source": [
    "#Librerías para la conección entre el formulario HTML y el archivo Jupiter\n",
    "from flask import Flask, render_template, request"
   ]
  },
  {
   "cell_type": "code",
   "execution_count": 12,
   "id": "e267c677-ea8c-4877-b223-4a70ece48d1a",
   "metadata": {},
   "outputs": [],
   "source": [
    "#Nombre del módulo actual\n",
    "app = Flask(__name__)"
   ]
  },
  {
   "cell_type": "code",
   "execution_count": 14,
   "id": "d926f683-0457-45cb-b25a-517ac071a107",
   "metadata": {},
   "outputs": [],
   "source": [
    "#Ruta que permite la comunicación con el formulario y métodos que le son permitidos\n",
    "@app.route(\"/\", methods=[\"GET\", \"POST\"])\n",
    "#Definimos la función de respuesta\n",
    "def formulario():\n",
    "    resultado = None\n",
    "    try:\n",
    "        if request.method == \"POST\":\n",
    "            #Datos recibidos del formulario\n",
    "            GENDER = int(request.form[\"GENDER\"])\n",
    "            AGE = int(request.form[\"AGE\"])\n",
    "            SMOKING = int(request.form[\"SMOKING\"])\n",
    "            YELLOW_FINGERS = int(request.form[\"YELLOW_FINGERS\"])\n",
    "            ANXIETY = int(request.form[\"ANXIETY\"])\n",
    "            PEER_PRESSURE = int(request.form[\"PEER_PRESSURE\"])\n",
    "            CHRONIC_DISEASE = int(request.form[\"CHRONIC_DISEASE\"])\n",
    "            FATIGUE = int(request.form[\"FATIGUE\"])\n",
    "            ALLERGY = int(request.form[\"ALLERGY\"])\n",
    "            WHEEZING = int(request.form[\"WHEEZING\"])\n",
    "            ALCOHOL_CONSUMING = int(request.form[\"ALCOHOL_CONSUMING\"])\n",
    "            COUGHING = int(request.form[\"COUGHING\"])\n",
    "            SHORTNESS_OF_BREATH = int(request.form[\"SHORTNESS_OF_BREATH\"])\n",
    "            SWALLOWING_DIFFICULTY = int(request.form[\"SWALLOWING_DIFFICULTY\"])\n",
    "            CHEST_PAIN = int(request.form[\"CHEST_PAIN\"])\n",
    "\n",
    "            #Verifica si los datos recibidos son coherentes con las indicaciones de la base de datos\n",
    "            if (1 <= GENDER <= 2) and (1 <= AGE) and (1 <= SMOKING <= 2) and (1 <= YELLOW_FINGERS <= 2) and (1 <= ANXIETY <= 2) and (1 <= PEER_PRESSURE <= 2) and (1 <= CHRONIC_DISEASE <= 2) and (1 <= FATIGUE <= 2) and (1 <= ALLERGY <= 2) and (1 <= WHEEZING <= 2) and (1 <= ALCOHOL_CONSUMING <= 2) and (1 <= COUGHING <= 2) and (1 <= SHORTNESS_OF_BREATH <= 2) and (1 <= SWALLOWING_DIFFICULTY <= 2) and (1 <= CHEST_PAIN <= 2):\n",
    "                #Respuesta del algoritmo\n",
    "                prediccion = knn_mm.predict(pd.DataFrame([[GENDER, AGE, SMOKING, YELLOW_FINGERS, ANXIETY, PEER_PRESSURE, CHRONIC_DISEASE, FATIGUE, ALLERGY, WHEEZING, ALCOHOL_CONSUMING, COUGHING, SHORTNESS_OF_BREATH, SWALLOWING_DIFFICULTY, CHEST_PAIN]],columns=x.columns))\n",
    "                prob_prediccion = knn_mm.predict_proba(pd.DataFrame([[GENDER, AGE, SMOKING, YELLOW_FINGERS, ANXIETY, PEER_PRESSURE, CHRONIC_DISEASE, FATIGUE, ALLERGY, WHEEZING, ALCOHOL_CONSUMING, COUGHING, SHORTNESS_OF_BREATH, SWALLOWING_DIFFICULTY, CHEST_PAIN]],columns=x.columns))\n",
    "\n",
    "                \n",
    "                #Generando respuesta según los resultados de la predicción\n",
    "                match int(prediccion[0]):\n",
    "                    case 1:\n",
    "                        probabilidad = round(float(prob_prediccion[0][0])*100,2)\n",
    "                        resultado = f\"El resultado es benigno con una probabilidad de {probabilidad}%.\"\n",
    "                    case 2:\n",
    "                        probabilidad = round(float(prob_prediccion[0][1])*100,2)\n",
    "                        resultado = f\"El resultado es maligno con una probabilidad de {probabilidad}%.\"\n",
    "                print(\"Respuesta exitosa\")\n",
    "            else:\n",
    "                resultado = \"Datos inválidos, verifique si la información es correcta\"\n",
    "                print(\"Consulta inválida\")\n",
    "    \n",
    "    except ValueError:\n",
    "        resultado = \"Hubo un error X_X, verifique sus datos\"\n",
    "        print(\"Error detectado\")\n",
    "\n",
    "    #Se busca el archivo formulario.html en la carpeta templates y se envía de respuesta\n",
    "    return render_template(\"formulario.html\", resultado=resultado)"
   ]
  },
  {
   "cell_type": "code",
   "execution_count": 16,
   "id": "7acb0634-0e96-451e-8ced-40350c498c42",
   "metadata": {},
   "outputs": [
    {
     "name": "stdout",
     "output_type": "stream",
     "text": [
      " * Serving Flask app '__main__'\n",
      " * Debug mode: on\n"
     ]
    },
    {
     "name": "stderr",
     "output_type": "stream",
     "text": [
      "WARNING: This is a development server. Do not use it in a production deployment. Use a production WSGI server instead.\n",
      " * Running on http://127.0.0.1:5000\n",
      "Press CTRL+C to quit\n",
      "127.0.0.1 - - [19/May/2025 19:17:56] \"GET / HTTP/1.1\" 200 -\n",
      "127.0.0.1 - - [19/May/2025 19:25:53] \"GET / HTTP/1.1\" 200 -\n",
      "127.0.0.1 - - [19/May/2025 19:25:55] \"GET / HTTP/1.1\" 200 -\n",
      "127.0.0.1 - - [19/May/2025 19:26:18] \"POST / HTTP/1.1\" 200 -\n"
     ]
    },
    {
     "name": "stdout",
     "output_type": "stream",
     "text": [
      "Respuesta exitosa\n"
     ]
    },
    {
     "name": "stderr",
     "output_type": "stream",
     "text": [
      "127.0.0.1 - - [19/May/2025 19:31:18] \"POST / HTTP/1.1\" 200 -\n"
     ]
    },
    {
     "name": "stdout",
     "output_type": "stream",
     "text": [
      "Respuesta exitosa\n"
     ]
    },
    {
     "name": "stderr",
     "output_type": "stream",
     "text": [
      "127.0.0.1 - - [19/May/2025 19:31:55] \"POST / HTTP/1.1\" 200 -\n"
     ]
    },
    {
     "name": "stdout",
     "output_type": "stream",
     "text": [
      "Respuesta exitosa\n"
     ]
    },
    {
     "name": "stderr",
     "output_type": "stream",
     "text": [
      "127.0.0.1 - - [19/May/2025 19:32:09] \"POST / HTTP/1.1\" 200 -\n"
     ]
    },
    {
     "name": "stdout",
     "output_type": "stream",
     "text": [
      "Respuesta exitosa\n"
     ]
    },
    {
     "name": "stderr",
     "output_type": "stream",
     "text": [
      "127.0.0.1 - - [19/May/2025 19:35:42] \"POST / HTTP/1.1\" 200 -\n"
     ]
    },
    {
     "name": "stdout",
     "output_type": "stream",
     "text": [
      "Respuesta exitosa\n"
     ]
    },
    {
     "name": "stderr",
     "output_type": "stream",
     "text": [
      "127.0.0.1 - - [19/May/2025 19:37:23] \"POST / HTTP/1.1\" 200 -\n"
     ]
    },
    {
     "name": "stdout",
     "output_type": "stream",
     "text": [
      "Respuesta exitosa\n"
     ]
    },
    {
     "name": "stderr",
     "output_type": "stream",
     "text": [
      "127.0.0.1 - - [19/May/2025 19:37:52] \"POST / HTTP/1.1\" 200 -\n"
     ]
    },
    {
     "name": "stdout",
     "output_type": "stream",
     "text": [
      "Respuesta exitosa\n"
     ]
    },
    {
     "name": "stderr",
     "output_type": "stream",
     "text": [
      "127.0.0.1 - - [19/May/2025 19:38:35] \"POST / HTTP/1.1\" 200 -\n"
     ]
    },
    {
     "name": "stdout",
     "output_type": "stream",
     "text": [
      "Respuesta exitosa\n"
     ]
    },
    {
     "name": "stderr",
     "output_type": "stream",
     "text": [
      "127.0.0.1 - - [19/May/2025 19:39:11] \"POST / HTTP/1.1\" 200 -\n"
     ]
    },
    {
     "name": "stdout",
     "output_type": "stream",
     "text": [
      "Respuesta exitosa\n"
     ]
    },
    {
     "name": "stderr",
     "output_type": "stream",
     "text": [
      "127.0.0.1 - - [19/May/2025 19:39:53] \"POST / HTTP/1.1\" 200 -\n"
     ]
    },
    {
     "name": "stdout",
     "output_type": "stream",
     "text": [
      "Respuesta exitosa\n"
     ]
    },
    {
     "name": "stderr",
     "output_type": "stream",
     "text": [
      "127.0.0.1 - - [19/May/2025 19:40:25] \"POST / HTTP/1.1\" 200 -\n"
     ]
    },
    {
     "name": "stdout",
     "output_type": "stream",
     "text": [
      "Respuesta exitosa\n"
     ]
    },
    {
     "name": "stderr",
     "output_type": "stream",
     "text": [
      "127.0.0.1 - - [19/May/2025 19:41:21] \"POST / HTTP/1.1\" 200 -\n"
     ]
    },
    {
     "name": "stdout",
     "output_type": "stream",
     "text": [
      "Respuesta exitosa\n"
     ]
    },
    {
     "name": "stderr",
     "output_type": "stream",
     "text": [
      "127.0.0.1 - - [19/May/2025 19:41:24] \"GET / HTTP/1.1\" 200 -\n",
      "127.0.0.1 - - [19/May/2025 19:44:58] \"GET / HTTP/1.1\" 200 -\n",
      "127.0.0.1 - - [19/May/2025 19:45:12] \"GET / HTTP/1.1\" 200 -\n",
      "127.0.0.1 - - [19/May/2025 19:45:24] \"GET / HTTP/1.1\" 200 -\n"
     ]
    }
   ],
   "source": [
    "#Ejecución del archivo\n",
    "if __name__ == \"__main__\":\n",
    "    app.run(debug=True, use_reloader=False)"
   ]
  }
 ],
 "metadata": {
  "kernelspec": {
   "display_name": "Python [conda env:base] *",
   "language": "python",
   "name": "conda-base-py"
  },
  "language_info": {
   "codemirror_mode": {
    "name": "ipython",
    "version": 3
   },
   "file_extension": ".py",
   "mimetype": "text/x-python",
   "name": "python",
   "nbconvert_exporter": "python",
   "pygments_lexer": "ipython3",
   "version": "3.12.7"
  }
 },
 "nbformat": 4,
 "nbformat_minor": 5
}
