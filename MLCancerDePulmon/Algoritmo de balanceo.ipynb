{
 "cells": [
  {
   "cell_type": "code",
   "execution_count": 2,
   "id": "72d9e34e-d1fc-48b1-a266-83adbe46782c",
   "metadata": {},
   "outputs": [],
   "source": [
    "import pandas as pd\n",
    "from imblearn.over_sampling import SMOTE"
   ]
  },
  {
   "cell_type": "code",
   "execution_count": 4,
   "id": "f297f667-b097-439b-9d35-de46a5729735",
   "metadata": {},
   "outputs": [],
   "source": [
    "# Cargar el dataset original\n",
    "df = pd.read_csv(\"CANCERLUNG.csv\") "
   ]
  },
  {
   "cell_type": "code",
   "execution_count": 6,
   "id": "49e7a181-9948-4749-a679-fda795bc8fc0",
   "metadata": {},
   "outputs": [],
   "source": [
    "# Convertir variables categóricas a numéricas (One-Hot Encoding)\n",
    "X = pd.get_dummies(df.drop(\"LUNG_CANCER\", axis=1))\n",
    "y = df[\"LUNG_CANCER\"]"
   ]
  },
  {
   "cell_type": "code",
   "execution_count": 8,
   "id": "d4252d3d-ffd3-4c9b-9981-d7743cc70085",
   "metadata": {},
   "outputs": [],
   "source": [
    "# Aplicar SMOTE\n",
    "smote = SMOTE(random_state=42)\n",
    "X_resampled, y_resampled = smote.fit_resample(X, y)"
   ]
  },
  {
   "cell_type": "code",
   "execution_count": 10,
   "id": "46d75b60-a08f-4388-bff3-a45bf416a547",
   "metadata": {},
   "outputs": [],
   "source": [
    "# Reconstruir el DataFrame balanceado\n",
    "df_resampled = pd.DataFrame(X_resampled, columns=X.columns)\n",
    "df_resampled[\"LUNG_CANCER\"] = y_resampled"
   ]
  },
  {
   "cell_type": "code",
   "execution_count": 12,
   "id": "92877c2f-b28c-4719-9497-1c5b60458372",
   "metadata": {},
   "outputs": [],
   "source": [
    "# Eliminar columnas innecesarias\n",
    "df_resampled = df_resampled.drop(['GENDER_M', 'SMOKING_No', 'YELLOW_FINGERS_No', 'ANXIETY_No','PEER_PRESSURE_No', 'CHRONIC_DISEASE_No', 'FATIGUE_No', 'ALLERGY_No', 'WHEEZING_No', 'ALCOHOL_CONSUMING_No', 'COUGHING_No', 'SHORTNESS_OF_BREATH_No', 'SWALLOWING_DIFFICULTY_No', 'CHEST_PAIN_No'], axis=1)"
   ]
  },
  {
   "cell_type": "code",
   "execution_count": null,
   "id": "d93e7096-541c-4b9b-8ae5-8a17dec65414",
   "metadata": {},
   "outputs": [],
   "source": [
    "#Transformar los datos generados en valores numéricos para el entrenamiento del algoritmo knn\n",
    "convertidor_x = {True: 2, False: 1}\n",
    "convertidor_y = {'YES': 1, 'NO': 0}\n",
    "df_resampled['LUNG_CANCER'] = df_resampled['LUNG_CANCER'].map(convertidor_y)\n",
    "columnas = ['GENDER_F','SMOKING_Yes','YELLOW_FINGERS_Yes','ANXIETY_Yes','PEER_PRESSURE_Yes','CHRONIC_DISEASE_Yes','FATIGUE_Yes','ALLERGY_Yes','WHEEZING_Yes','ALCOHOL_CONSUMING_Yes','COUGHING_Yes','SHORTNESS_OF_BREATH_Yes','SWALLOWING_DIFFICULTY_Yes','CHEST_PAIN_Yes']\n",
    "for i in columnas:\n",
    "    df_resampled[i] = df_resampled[i].map(convertidor_x)"
   ]
  },
  {
   "cell_type": "code",
   "execution_count": 16,
   "id": "20f38a4f-6afa-4bd4-a54b-5f85219f28bd",
   "metadata": {},
   "outputs": [
    {
     "name": "stdout",
     "output_type": "stream",
     "text": [
      "Archivo balanceado guardado como 'DSCancerDePulmon.csv'\n"
     ]
    }
   ],
   "source": [
    "# Guardar como archivo CSV\n",
    "df_resampled.to_csv(\"DSCancerDePulmon.csv\", index=False)\n",
    "\n",
    "print(\"Archivo balanceado guardado como 'DSCancerDePulmon.csv'\")"
   ]
  }
 ],
 "metadata": {
  "kernelspec": {
   "display_name": "Python [conda env:base] *",
   "language": "python",
   "name": "conda-base-py"
  },
  "language_info": {
   "codemirror_mode": {
    "name": "ipython",
    "version": 3
   },
   "file_extension": ".py",
   "mimetype": "text/x-python",
   "name": "python",
   "nbconvert_exporter": "python",
   "pygments_lexer": "ipython3",
   "version": "3.12.7"
  }
 },
 "nbformat": 4,
 "nbformat_minor": 5
}
